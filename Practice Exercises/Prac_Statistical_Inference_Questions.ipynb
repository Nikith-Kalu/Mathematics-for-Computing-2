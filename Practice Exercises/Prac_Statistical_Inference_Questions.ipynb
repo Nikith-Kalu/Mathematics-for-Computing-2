{
 "cells": [
  {
   "cell_type": "markdown",
   "metadata": {},
   "source": [
    "# Statistical Inference Exercises"
   ]
  },
  {
   "cell_type": "markdown",
   "metadata": {},
   "source": [
    "### BDIMS Data Overview\n",
    "\n",
    "In the following Exercises, you will be working with measurements of body dimensions. This data set contains measurements from 247 men and 260 women, most of whom were considered healthy young adults.\n",
    "\n",
    "Data source: amstat.org\n",
    "\n",
    "You will begin by downloading the dataset of around 500 observations from OpenIntro website as below.\n",
    "\n",
    "[link](https://github.com/akmand/datasets/blob/main/openintro/bdims.csv)\n",
    "\n",
    "Place the csv in the same directory as this notebook and read in the data."
   ]
  },
  {
   "cell_type": "markdown",
   "metadata": {},
   "source": [
    "**Exercise 1:** Make a histogram of men's heights and a histogram of women's heights. How would you compare the various aspects of the two distributions?\n",
    "\n",
    "**Hint:** `sex = 1` means male, otherwise female."
   ]
  },
  {
   "cell_type": "markdown",
   "metadata": {},
   "source": [
    "**Exercise 2:** Make a normal probability plot of men's heights and a normal probability plot of women's heights. Do all of the points fall on the line?\n",
    "\n",
    "**Hint:** Use `probplot` function from [`scipy.stats`](https://docs.scipy.org/doc/scipy/reference/generated/scipy.stats.probplot.html)."
   ]
  },
  {
   "cell_type": "markdown",
   "metadata": {},
   "source": [
    "**Exercise 3:** Now that we have seen that both male and female heights are approximately normally distributed, let's focus on male height. What is the sample mean and standard deviation of `hgt`? "
   ]
  },
  {
   "cell_type": "markdown",
   "metadata": {},
   "source": [
    "**Exercise 4:** What is the standard error for male height?"
   ]
  },
  {
   "cell_type": "markdown",
   "metadata": {},
   "source": [
    "**Exercise 5:** Calculate the 95% confidence interval for men's height"
   ]
  },
  {
   "cell_type": "markdown",
   "metadata": {},
   "source": [
    "**Exercise 6:** Would you expect the 90% confidence interval to be wider or more narrow than the 95% confidence interval? Calculate the 90% Confidence interval for mens height to confirm your answer"
   ]
  },
  {
   "cell_type": "markdown",
   "metadata": {},
   "source": [
    "**Exercise 7:** Perform a hypothesis test using a 5% significance test on female height to see whether the mean height is different to 164."
   ]
  },
  {
   "cell_type": "markdown",
   "metadata": {},
   "source": [
    "**Question 8:** Would we have reached the same conclusion in the previous question if we were using a 1% significance level?"
   ]
  },
  {
   "cell_type": "markdown",
   "metadata": {},
   "source": [
    "**Exercise 9:** We will now shift our attention to t distributions.\n",
    "\n",
    "We use scipy.stats generate a random sample (seed =11) of 20 centered around 5 and with a standard deviation of 0.9 by running the following code:\n",
    "\n",
    "```{code}\n",
    "np.random.seed(11)\n",
    "x = norm.rvs(loc = 5 , scale = 0.9, size =20)\n",
    "```\n",
    "\n",
    "What is the sample mean and standard deviation?\n"
   ]
  },
  {
   "cell_type": "markdown",
   "metadata": {},
   "source": [
    "**Exercise 10:** Plot this random sample as a distribution plot in seaborn with kde set to True. How would you describe the distribution?"
   ]
  },
  {
   "cell_type": "markdown",
   "metadata": {},
   "source": [
    "**Exercise 11:** Calculate the p_value for the null and alternate hypothesis below on the randomly generated data.\n",
    "\n",
    "$$H_0: \\mu = 5.22 $$\n",
    "$$H_1: \\mu \\neq 5.22$$"
   ]
  },
  {
   "cell_type": "markdown",
   "metadata": {},
   "source": [
    "**Exercises 12:**\n",
    "How do we interpret the p value? For what conventional significance levels (1%, 5% and 10%) do we reject and fail to reject the hypothesis.\n"
   ]
  },
  {
   "cell_type": "markdown",
   "metadata": {},
   "source": [
    "**Exercise 13:** For a different alone variable, you are given the following hypotheses:\n",
    "\n",
    "$Ho$: $\\mu$ = 60\n",
    "\n",
    "$Ha$: $\\mu$ != 60\n",
    "\n",
    "The sample standard deviation is 8 and the sample size is 20. For what sample mean would the p-value be equal to 0.05? Assume that all conditions necessary for inference are satisfied."
   ]
  },
  {
   "cell_type": "markdown",
   "metadata": {},
   "source": [
    "***\n",
    "www.featureranking.com"
   ]
  }
 ],
 "metadata": {
  "hide_input": false,
  "kernelspec": {
   "display_name": "Python 3 (ipykernel)",
   "language": "python",
   "name": "python3"
  },
  "language_info": {
   "codemirror_mode": {
    "name": "ipython",
    "version": 3
   },
   "file_extension": ".py",
   "mimetype": "text/x-python",
   "name": "python",
   "nbconvert_exporter": "python",
   "pygments_lexer": "ipython3",
   "version": "3.8.10"
  }
 },
 "nbformat": 4,
 "nbformat_minor": 2
}
