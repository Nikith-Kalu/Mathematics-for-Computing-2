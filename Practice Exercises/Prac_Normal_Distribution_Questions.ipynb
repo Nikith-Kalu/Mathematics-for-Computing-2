{
 "cells": [
  {
   "cell_type": "markdown",
   "metadata": {},
   "source": [
    "# Normal Distribution Exercises"
   ]
  },
  {
   "cell_type": "markdown",
   "metadata": {},
   "source": [
    "**For Fun:** Plot normal distribution with Python using its probability density function\n",
    "\n",
    "<img src=https://image.slidesharecdn.com/cabtshsstat-prob-thestandardnormaldistribution-161003010642/95/cabt-shs-statistics-probability-the-standard-normal-distribution-5-638.jpg width=\"500\">\n"
   ]
  },
  {
   "cell_type": "markdown",
   "metadata": {},
   "source": [
    "**Exercise 1:** \n",
    "If X is normally distributed with a mean of 4 and and a variance of 16 using python calculate the following probabilities to 3 decimal places:\n",
    "- $\\text{Pr}(X < 5.7)$\n",
    "- $\\text{Pr}(X > 7)$\n",
    "- $\\text{Pr}(2.2 < X < 8)$\n",
    "\n"
   ]
  },
  {
   "cell_type": "markdown",
   "metadata": {},
   "source": [
    "**Exercise 2:** Calculate the following percentiles of $X$.\n",
    "$$ X \\sim (\\mu =5 , \\sigma^2 = 12) $$\n",
    "- The 42nd percentile \n",
    "- The 88th percentile\n"
   ]
  },
  {
   "cell_type": "markdown",
   "metadata": {},
   "source": [
    "**Exercise 3:** Mark and Jane both run in the 1000 metres, a popular track race in the olympics. Mark competed in the Men, Ages 25 - 29 group, while Jane competed in the Women, Ages 20 - 24 group. \n",
    "\n",
    "Mark completed the race in 221 seconds, while Jane completed the race in 246 seconds. Obviously Mark finished faster, but the question is how well they did within their respective groups. Here is some information on the performance of their groups:\n",
    "- The finishing times of the Men, Ages 25 - 29 group has a mean of 181 seconds with a standard deviation of 35 seconds.\n",
    "- The finishing times of the Women, Ages 20 - 24 group has a mean of 224 seconds with a standard deviation of 46 seconds.\n",
    "- The distributions of finishing times for both groups are approximately Normal. Keep in mind that a better performance corresponds to a faster finish.\n",
    "\n",
    "\n",
    "A) What are the Z-scores for Mark’s and Jane’s finishing times? What do these Z-scores tell you?\n"
   ]
  },
  {
   "cell_type": "markdown",
   "metadata": {},
   "source": [
    "B) Did Mark or Jane rank better in their respective groups? Explain your reasoning."
   ]
  },
  {
   "cell_type": "markdown",
   "metadata": {},
   "source": [
    "C) What percent of the runners did Mark finish faster than in his group?"
   ]
  },
  {
   "cell_type": "markdown",
   "metadata": {},
   "source": [
    "D) What percent of the runners did Jane finish faster than in her group?\n",
    "\n"
   ]
  },
  {
   "cell_type": "markdown",
   "metadata": {},
   "source": [
    "E) If the distributions of finishing times are not nearly normal, would your answers to parts (A) - (D) change? Explain your reasoning."
   ]
  },
  {
   "cell_type": "markdown",
   "metadata": {},
   "source": [
    "**Exercise 4:** Suppose weights of the checked baggage of airline passengers follow a nearly normal distribution with mean 45 pounds and standard deviation 3.2 pounds. Most airlines charge a fee for baggage that weigh in excess of 50 pounds. Determine what percent of airline passengers incur this fee."
   ]
  },
  {
   "cell_type": "markdown",
   "metadata": {},
   "source": [
    "**Exercise 5:** A market researcher wants to evaluate car insurance savings at a competing company. Based on past studies he is assuming that the standard deviation of savings is AUD 100. He wants to collect data such that he can get a margin of error of no more than AUD 10 at a 95% confidence level. How large of a sample should he collect?"
   ]
  },
  {
   "cell_type": "markdown",
   "metadata": {},
   "source": [
    "***\n",
    "www.featureranking.com"
   ]
  }
 ],
 "metadata": {
  "hide_input": false,
  "kernelspec": {
   "display_name": "Python 3 (ipykernel)",
   "language": "python",
   "name": "python3"
  },
  "language_info": {
   "codemirror_mode": {
    "name": "ipython",
    "version": 3
   },
   "file_extension": ".py",
   "mimetype": "text/x-python",
   "name": "python",
   "nbconvert_exporter": "python",
   "pygments_lexer": "ipython3",
   "version": "3.8.10"
  }
 },
 "nbformat": 4,
 "nbformat_minor": 2
}
