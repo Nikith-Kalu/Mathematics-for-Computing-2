{
 "cells": [
  {
   "cell_type": "markdown",
   "metadata": {},
   "source": [
    "# Descriptive Statistics Exercises"
   ]
  },
  {
   "cell_type": "markdown",
   "metadata": {},
   "source": [
    "## Important Notes\n",
    "\n",
    "**IMPORTANT NOTE 1:** Please remember to **run your code cells** so that you can see the output of your codes.\n",
    "\n",
    "**IMPORTANT NOTE 2:** By default, Jupyter Notebook will only display the output of the last command in a Code cell. Thus, if you have multiple commands in a Code cell and you need to print output of a Python command in the middle of the cell, you have two options: \n",
    "- Option 1: Break your Code cell into multiple Code cells and place only one command in each cell so that you can display output of each command.\n",
    "- Option 2: (**Preferred**) In a Code cell, put print() statements around each Python command whose output you would like to display."
   ]
  },
  {
   "cell_type": "markdown",
   "metadata": {},
   "source": [
    "## Tutorial Overview\n",
    "\n",
    "In this exercise, you will gain insight into public health by generating simple graphical and numerical summaries of a dataset collected by the U.S. Centers for Disease Control and Prevention (CDC).\n",
    "\n",
    "The Behavioral Risk Factor Surveillance System (BRFSS) is an annual telephone survey of 350,000 people in the United States. As its name implies, the BRFSS is designed to identify risk factors in the adult population and report emerging health trends. For example, respondents are asked about their diet and weekly physical activity, their HIV/AIDS status, possible tobacco use, and even their level of healthcare coverage.\n",
    "\n",
    "Data source: cdc.gov/brfss\n",
    "\n",
    "We will focus on a random sample of 60 people from the BRFSS survey conducted in 2000. While there are over 200 variables in this data set, we will work with a small subset. \n",
    "\n"
   ]
  },
  {
   "cell_type": "markdown",
   "metadata": {},
   "source": [
    "**Exercise 1:** Import the `numpy` and `pandas` modules in as `np` and `pd` respectively. Then place the `cdc_sample.csv` from our dataset GitHub repository into the same directory as this notebook and read in the data as `cdc`. Display the first 5 rows of the data. "
   ]
  },
  {
   "cell_type": "markdown",
   "metadata": {},
   "source": [
    "**Exercise 2:** How many variables are there in this dataset? For each variable, identify its data type (e.g., categorical, numerical). If categorical, state the number of levels.\n",
    "\n",
    "**Hint:** Try using Pandas' `info()` method on your data frame. In the output of this method, `object` data type (\"dtype\") stands for a string type, which usually indicates a categorical variable. On the hand, some numerical variables can actually be categorical in nature (think about hlthplan, for instance). This can be verified when coupled with the `nunique()` function.\n",
    "\n"
   ]
  },
  {
   "cell_type": "markdown",
   "metadata": {},
   "source": [
    "**Exercise 3:** What are the levels in `genhlth`? and how many people fall under each level?\n",
    "\n",
    "**Hint:** you can use Pandas' `value_counts()` function."
   ]
  },
  {
   "cell_type": "markdown",
   "metadata": {},
   "source": [
    "**Exercise 4:** Import `matplotlib.pyplot` as `plt` and create a scatterplot of `height` and `weight`, ensuring that the plot has an appropriate title and axis labels. What is the association between these two variables? "
   ]
  },
  {
   "cell_type": "markdown",
   "metadata": {},
   "source": [
    "**Exercise 5:** Find the mean, sample standard deviation, and median of `weight`."
   ]
  },
  {
   "cell_type": "markdown",
   "metadata": {},
   "source": [
    "**Exercise 6:** Find the mean, sample standard deviation, and median of `weight` for respondents who exercised in the past month. Is there any significant difference in the results when compared to the results of Exercise 5?\n",
    "\n",
    "**Hint:** `exerany` is the variable that is 1 if the respondent exercised in the past month and 0 otherwise."
   ]
  },
  {
   "cell_type": "markdown",
   "metadata": {},
   "source": [
    "**Exercise 7:** Create a histogram of `weight` from the data examined in Exercise 5 and 6 on the same plot. Ensuring that your plot has an appropriate title, axis labels and legend. Does this histogram support your answer in question 6? Also comment of the shape of the distribution.\n",
    "\n",
    "**Hint:** The `alpha` argument of plotting can be used to change the level of transparacy."
   ]
  },
  {
   "cell_type": "markdown",
   "metadata": {},
   "source": [
    "**Exercise 8:** Continuing our investigation into the `weight` variable compute the: \n",
    "\n",
    "- 5-number summary in ascending order (that is, min, Q1, Q2 (median), Q3, and max). \n",
    "- interquartile range (IQR) for this variable (which is Q3-Q1). \n",
    "- max upper whisker reach and max lower whisker reach. Based on these values, how many outliers are there for `weight`? \n",
    "\n",
    "Finally, using Matplotlib, create a boxplot for this variable.\n",
    "\n",
    "**Hint:** For quantiles, you can use `np.quantile()`."
   ]
  },
  {
   "cell_type": "markdown",
   "metadata": {},
   "source": [
    "**Exercise 9:** Similarly for the `wtdesire` compute the 5 number summary. Produce a boxplot of both `wtdesire` and `weight`.\n",
    "\n",
    "Then compare it with the results from Exercise 8 and comment on the boxplot. "
   ]
  },
  {
   "cell_type": "markdown",
   "metadata": {},
   "source": [
    "**Exercise 10:** Create a new data subset called `under25_and_overweight` that contains all respondents under the age of 25 who think their actual weights are over their desired weights. \n",
    "\n",
    "How many rows are there in this dataset? \n",
    "\n",
    "What percent of respondents under the age 25 think that they are overweight?\n"
   ]
  },
  {
   "cell_type": "markdown",
   "metadata": {},
   "source": [
    "**Exercise 11:** Let's consider a new variable: the difference between desired weight (`wtdesire`) and current weight (`weight`). Create this new variable by subtracting the two columns in the cdc data frame and assigning them to a new variable called `wdiff`."
   ]
  },
  {
   "cell_type": "markdown",
   "metadata": {},
   "source": [
    "**Exercise 12:** What percent of respondents' `wdiff` is zero? Comment on the result."
   ]
  },
  {
   "cell_type": "markdown",
   "metadata": {},
   "source": [
    "**Exercise 13:** What percent of respondents think they are overweight, that is, their `wdiff` value is less than 0? What percent of respondents think they are underweight?"
   ]
  },
  {
   "cell_type": "markdown",
   "metadata": {},
   "source": [
    "**Exercise 14:** Make a scatterplot of weight versus desired weight. Set the fill color as blue and alpha level as 0.3. Describe the relationship between these two variables.\n",
    "\n",
    "**Bonus**: Also fit a red line with a slope of 1 and an intercept value of 0. See [this](https://www.featureranking.com/tutorials/python-tutorials/matplotlib/#Lines) for an example of a line fit. "
   ]
  },
  {
   "cell_type": "markdown",
   "metadata": {},
   "source": [
    "**Exercise 15:** Create a side-by-side boxplot to determine if men tend to view their weight differently than women.\n",
    "\n",
    "**Hint**: For this, you will need to use the [Seaborn module](https://www.featureranking.com/tutorials/python-tutorials/seaborn/#Boxplots)."
   ]
  },
  {
   "cell_type": "markdown",
   "metadata": {},
   "source": [
    "***\n",
    "www.featureranking.com"
   ]
  }
 ],
 "metadata": {
  "hide_input": false,
  "kernelspec": {
   "display_name": "Python 3 (ipykernel)",
   "language": "python",
   "name": "python3"
  },
  "language_info": {
   "codemirror_mode": {
    "name": "ipython",
    "version": 3
   },
   "file_extension": ".py",
   "mimetype": "text/x-python",
   "name": "python",
   "nbconvert_exporter": "python",
   "pygments_lexer": "ipython3",
   "version": "3.8.10"
  }
 },
 "nbformat": 4,
 "nbformat_minor": 2
}
