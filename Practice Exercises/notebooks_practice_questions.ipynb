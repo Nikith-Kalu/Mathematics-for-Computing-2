{
 "cells": [
  {
   "cell_type": "markdown",
   "metadata": {},
   "source": [
    "### Practice for Jupyter Notebook-Based Assessments - Questions\n",
    "<br>\n",
    "\n",
    "**<font color='red'>INSTRUCTIONS</font>**\n",
    "1. Please do **not** delete any existing cells in this notebook.\n",
    "2. In an answer cell, any change you need to make  or any action you need to take will be indicated by a Python comment. In addition, the value of \"999\" will denote a dummy placeholder in general. \n",
    "3. Please do **not** change anything in an existing cell in this notebook unless you are specifically instructed to do so. \n",
    "4. You **must** run each and every one of your answer cells so that your answers are recorded correctly.\n",
    "5. Good luck!\n",
    "\n",
    "(**NOTE:** This notebook is **only** for practice. You do **not** need to submit it for anything.)"
   ]
  },
  {
   "cell_type": "code",
   "execution_count": null,
   "metadata": {},
   "outputs": [],
   "source": [
    "# please write your full name and student ID below. Thank you.\n",
    "print(\"\"\"\n",
    "Name:\n",
    "Student ID:\n",
    "\"\"\")"
   ]
  },
  {
   "cell_type": "code",
   "execution_count": null,
   "metadata": {
    "deletable": false,
    "editable": false
   },
   "outputs": [],
   "source": [
    "# you must run this cell so that the dropdown answer selections below work correctly\n",
    "from ipywidgets import interactive\n",
    "def function_mcq(selection): pass"
   ]
  },
  {
   "cell_type": "markdown",
   "metadata": {},
   "source": [
    "#### <font color='red'>Question 1</font> \n",
    "\n",
    "Print the number `pi` from the `Numpy` module to 2 decimal places. This will ensure that you have `Numpy` installed."
   ]
  },
  {
   "cell_type": "code",
   "execution_count": null,
   "metadata": {
    "tags": [
     "q1"
    ]
   },
   "outputs": [],
   "source": [
    "import numpy as np\n",
    "\n",
    "pi = -999  # replace the dummy value with the \"pi\" attribute from the numpy module\n",
    "\n",
    "print(f\"pi = {pi:.2f}\")"
   ]
  },
  {
   "cell_type": "markdown",
   "metadata": {
    "solution2": "shown",
    "solution2_first": true
   },
   "source": [
    "#### <font color='red'> Question 2</font> \n",
    "\n",
    "Find the shape of the data frame `df` defined below. This will ensure that you have `Pandas` installed.\n",
    "\n",
    "**HINT:** Try: \n",
    "```Python \n",
    "df.shape\n",
    "```"
   ]
  },
  {
   "cell_type": "code",
   "execution_count": null,
   "metadata": {
    "solution2": "shown",
    "tags": [
     "q3"
    ]
   },
   "outputs": [],
   "source": [
    "import pandas as pd\n",
    "\n",
    "df = pd.DataFrame({'name': ['alice', 'bob', 'cindy', 'david', 'eve'], 'age': [23, 32, 35, 19, 33]})\n",
    "\n",
    "df_shape = -999  # find the shape\n",
    "\n",
    "print(f\"df_shape = {df_shape}\")"
   ]
  },
  {
   "cell_type": "markdown",
   "metadata": {},
   "source": [
    "#### <font color='red'> Question 3</font> \n",
    "\n",
    "Write a program that will ask for minimum and maximum ages for the data frame in the above question and display the individuals whose age is between these two age limits (both limits inclusive).\n",
    "\n",
    "**HINT:** Try\n",
    "```Python\n",
    "df[(df['age'] >= min_age) & (df['age'] <= max_age)]\n",
    "```"
   ]
  },
  {
   "cell_type": "code",
   "execution_count": null,
   "metadata": {
    "tags": [
     "q2"
    ]
   },
   "outputs": [],
   "source": [
    "import pandas as pd\n",
    "\n",
    "min_age = int(input())\n",
    "max_age = int(input())\n",
    "\n",
    "df = pd.DataFrame({'name': ['alice', 'bob', 'cindy', 'david', 'eve'], 'age': [23, 32, 35, 19, 33]})\n",
    "\n",
    "df_filtered = -999  # add your code here\n",
    "                 \n",
    "print(df_filtered)"
   ]
  },
  {
   "cell_type": "markdown",
   "metadata": {},
   "source": [
    "#### <font color='red'> Question 4</font> \n",
    "\n",
    "Present a box plot for the `age` column in the above `df`. This will ensure that you have `Matplotlib` installed.\n",
    "\n",
    "**HINT:** Try this: \n",
    "```Python \n",
    "df['age'].plot.box()\n",
    "```"
   ]
  },
  {
   "cell_type": "code",
   "execution_count": null,
   "metadata": {
    "tags": [
     "q4"
    ]
   },
   "outputs": [],
   "source": [
    "import numpy as np\n",
    "import matplotlib.pyplot as plt\n",
    "\n",
    "%matplotlib inline\n",
    "%config InlineBackend.figure_format = \"retina\"\n",
    "plt.style.use(\"ggplot\")\n",
    "\n",
    "# add your code below"
   ]
  },
  {
   "cell_type": "markdown",
   "metadata": {},
   "source": [
    "#### <font color='red'> Question 5</font> \n",
    "\n",
    "For a code cell in a Jupyter notebook, you need to run the cell so that you can see the output of the code in that cell. **True** or **False**?"
   ]
  },
  {
   "cell_type": "code",
   "execution_count": null,
   "metadata": {},
   "outputs": [],
   "source": [
    "# run this cell\n",
    "q5 = interactive(function_mcq, selection=['nothing selected', 'true', 'false']); \n",
    "display(q5)"
   ]
  },
  {
   "cell_type": "code",
   "execution_count": null,
   "metadata": {
    "tags": [
     "q5"
    ]
   },
   "outputs": [],
   "source": [
    "# run this cell after your selection above\n",
    "print(f\"{q5.kwargs['selection']}\")"
   ]
  },
  {
   "cell_type": "markdown",
   "metadata": {},
   "source": [
    "#### <font color='red'> Question 6</font> \n",
    "\n",
    "In a Jupyter notebook, which one of the following is **not** a top menu option?"
   ]
  },
  {
   "cell_type": "code",
   "execution_count": null,
   "metadata": {},
   "outputs": [],
   "source": [
    "# run this cell\n",
    "q6 = interactive(function_mcq, selection=['nothing selected', 'file', 'edit', 'view', 'submit', 'kernel']); \n",
    "display(q6);"
   ]
  },
  {
   "cell_type": "code",
   "execution_count": null,
   "metadata": {
    "tags": [
     "q6"
    ]
   },
   "outputs": [],
   "source": [
    "# run this cell after your selection above\n",
    "print(f\"{q6.kwargs['selection']}\")"
   ]
  },
  {
   "cell_type": "markdown",
   "metadata": {},
   "source": [
    "#### <font color='red'> Question 7</font> \n",
    "\n",
    "What is the mean of a sample with the following 4 observations:<br> 4, 6, 10, 1000?"
   ]
  },
  {
   "cell_type": "code",
   "execution_count": null,
   "metadata": {
    "tags": [
     "q7"
    ]
   },
   "outputs": [],
   "source": [
    "mean = -999  # find with the mean\n",
    "\n",
    "print(f\"mean = {mean:.2f}\")"
   ]
  },
  {
   "cell_type": "markdown",
   "metadata": {},
   "source": [
    "#### <font color='red'> Question 8</font> \n",
    "\n",
    "What is the median of the sample in the above question?"
   ]
  },
  {
   "cell_type": "code",
   "execution_count": null,
   "metadata": {
    "tags": [
     "q8"
    ]
   },
   "outputs": [],
   "source": [
    "median = -999  # find with the median\n",
    "\n",
    "print(f\"median = {median:.2f}\")"
   ]
  },
  {
   "cell_type": "markdown",
   "metadata": {},
   "source": [
    "#### <font color='red'> Question 9</font> \n",
    "\n",
    "**Part A:** Identify the following random variables as either **discrete** or **continuous**: \n",
    "- Length of a string in Python \n",
    "- Execution time of a computer program\n",
    "- Number of rows in a Pandas data frame"
   ]
  },
  {
   "cell_type": "code",
   "execution_count": null,
   "metadata": {
    "tags": [
     "q9a"
    ]
   },
   "outputs": [],
   "source": [
    "random_vars = dict()\n",
    "\n",
    "random_var_types = ['nothing selected', 'discrete', 'continous']\n",
    "\n",
    "random_vars['length of a python string'] = random_var_types[0]  # replace 0 with the correct list index\n",
    "random_vars['execution time of a computer program'] = random_var_types[0]  # replace 0 with the correct list index\n",
    "random_vars['number of rows in a data frame'] = random_var_types[0]  # replace 0 with the correct list index\n",
    "\n",
    "for key, value in random_vars.items():\n",
    "    print(f\"{key}: {value}\")"
   ]
  },
  {
   "cell_type": "markdown",
   "metadata": {},
   "source": [
    "**Part B:** Please explain your reasoning above. "
   ]
  },
  {
   "cell_type": "code",
   "execution_count": null,
   "metadata": {
    "tags": [
     "q9b"
    ]
   },
   "outputs": [],
   "source": [
    "# provide your answer below within the print() statement\n",
    "print(\"\"\"\n",
    "\n",
    "\"\"\")"
   ]
  },
  {
   "cell_type": "markdown",
   "metadata": {},
   "source": [
    "#### <font color='red'> Question 10</font> \n",
    "\n",
    "Write a Python program that will ask for two real numbers and return their sum. Please make sure you run your code cell."
   ]
  },
  {
   "cell_type": "code",
   "execution_count": null,
   "metadata": {
    "tags": [
     "q10"
    ]
   },
   "outputs": [],
   "source": [
    "a = float(input('Waiting for input: '))\n",
    "b = float(input('Waiting for input: '))\n",
    "def function1(a, b):\n",
    "    result = -999\n",
    "    # add your code below\n",
    "    #\n",
    "    return result\n",
    "print(f\"sum is {function1(a,b):.2f}\")"
   ]
  },
  {
   "cell_type": "code",
   "execution_count": null,
   "metadata": {},
   "outputs": [],
   "source": []
  }
 ],
 "metadata": {
  "hide_input": false,
  "kernelspec": {
   "display_name": "Python 3 (ipykernel)",
   "language": "python",
   "name": "python3"
  },
  "language_info": {
   "codemirror_mode": {
    "name": "ipython",
    "version": 3
   },
   "file_extension": ".py",
   "mimetype": "text/x-python",
   "name": "python",
   "nbconvert_exporter": "python",
   "pygments_lexer": "ipython3",
   "version": "3.8.5"
  },
  "toc": {
   "base_numbering": 1,
   "nav_menu": {},
   "number_sections": true,
   "sideBar": true,
   "skip_h1_title": true,
   "title_cell": "Table of Contents",
   "title_sidebar": "Contents",
   "toc_cell": true,
   "toc_position": {},
   "toc_section_display": true,
   "toc_window_display": false
  },
  "varInspector": {
   "cols": {
    "lenName": 16,
    "lenType": 16,
    "lenVar": 40
   },
   "kernels_config": {
    "python": {
     "delete_cmd_postfix": "",
     "delete_cmd_prefix": "del ",
     "library": "var_list.py",
     "varRefreshCmd": "print(var_dic_list())"
    },
    "r": {
     "delete_cmd_postfix": ") ",
     "delete_cmd_prefix": "rm(",
     "library": "var_list.r",
     "varRefreshCmd": "cat(var_dic_list()) "
    }
   },
   "oldHeight": 277.329246,
   "position": {
    "height": "288.304px",
    "left": "940.399px",
    "right": "20px",
    "top": "133.952px",
    "width": "418px"
   },
   "types_to_exclude": [
    "module",
    "function",
    "builtin_function_or_method",
    "instance",
    "_Feature"
   ],
   "varInspector_section_display": "block",
   "window_display": false
  }
 },
 "nbformat": 4,
 "nbformat_minor": 2
}
