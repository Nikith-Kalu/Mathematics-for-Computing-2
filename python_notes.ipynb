{
 "cells": [
  {
   "cell_type": "markdown",
   "metadata": {},
   "source": [
    "# Python Notes"
   ]
  },
  {
   "cell_type": "markdown",
   "metadata": {},
   "source": [
    "This is a workbook dedicated to summarising the content encountered during the [python tutorial](https://github.com/Nikith-Kalu/Mathematics-for-Computing-2/tree/main/python_tutorials) videos."
   ]
  },
  {
   "cell_type": "markdown",
   "metadata": {},
   "source": [
    "## Table of Contents\n",
    "  * [Intro to Python](#Intro-to-Python)\n",
    "    + [Basics](#Basics)"
   ]
  },
  {
   "cell_type": "markdown",
   "metadata": {},
   "source": [
    "## Intro to Python <a id=\"Intro-to-Python\"></a> "
   ]
  },
  {
   "cell_type": "markdown",
   "metadata": {},
   "source": [
    "Firstly we're told to supress the warnings that the notebook gives us because they can get annoying, I personally wouldn't recommend doing this if you're creating a notebook of your own however here is the code."
   ]
  },
  {
   "cell_type": "code",
   "execution_count": 1,
   "metadata": {},
   "outputs": [],
   "source": [
    "import warnings\n",
    "warnings.filterwarnings('ignore')"
   ]
  },
  {
   "cell_type": "markdown",
   "metadata": {},
   "source": [
    "To use Jupyter Notebook with full functionality, you need to make sure your interpreter is above ver Python 3.6, i am currently using Python 3.10.0, to test if you have a compatible version please run the code below and see if it correctly evaluates the value 'a', if it cannot then you have an outdated version of python due to its inabillity to understand the printf function."
   ]
  },
  {
   "cell_type": "code",
   "execution_count": 3,
   "metadata": {},
   "outputs": [
    {
     "name": "stdout",
     "output_type": "stream",
     "text": [
      "value of a is 23\n"
     ]
    }
   ],
   "source": [
    "a = 23\n",
    "print(f'value of a is {a}')"
   ]
  },
  {
   "cell_type": "markdown",
   "metadata": {},
   "source": [
    "### make sure you get a result of 'value of a is 23'"
   ]
  },
  {
   "cell_type": "markdown",
   "metadata": {},
   "source": [
    "Now this section is a bit short because it only covers the content before the 'Basics' not much at all, so i'd like to take the time to discuss why this file exists. First of all, its so I can learn. So why not make it accessible for all? It encourages me to make actually usable notes so I see this as a win/win.\n",
    "<br>"
   ]
  },
  {
   "cell_type": "markdown",
   "metadata": {},
   "source": [
    "## Basics <a id=\"Basics\"></a>"
   ]
  },
  {
   "cell_type": "markdown",
   "metadata": {},
   "source": [
    "This is the first section, the basics. Learning python follows the same pattern as learning java, the best advice i can give to you is to draw similarities between the two languages to reinforce your understanding of the concepts. In reality python is incredibly similar to java and only differs in syntax and real-life applications. "
   ]
  },
  {
   "cell_type": "markdown",
   "metadata": {},
   "source": []
  }
 ],
 "metadata": {
  "interpreter": {
   "hash": "66c2206cddf48537c6676a8a6dcae92bbe1390b4c2ce34851933dbe50a12557a"
  },
  "kernelspec": {
   "display_name": "Python 3.9.12 64-bit ('base': conda)",
   "language": "python",
   "name": "python3"
  },
  "language_info": {
   "codemirror_mode": {
    "name": "ipython",
    "version": 3
   },
   "file_extension": ".py",
   "mimetype": "text/x-python",
   "name": "python",
   "nbconvert_exporter": "python",
   "pygments_lexer": "ipython3",
   "version": "3.9.12"
  },
  "orig_nbformat": 4
 },
 "nbformat": 4,
 "nbformat_minor": 2
}
