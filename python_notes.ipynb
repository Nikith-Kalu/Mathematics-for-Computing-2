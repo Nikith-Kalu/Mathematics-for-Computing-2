{
 "cells": [
  {
   "cell_type": "markdown",
   "metadata": {},
   "source": [
    "# Python Notes"
   ]
  },
  {
   "cell_type": "markdown",
   "metadata": {},
   "source": [
    "This is a workbook dedicated to summarising the content encountered during the [python tutorial](https://github.com/Nikith-Kalu/Mathematics-for-Computing-2/tree/main/python_tutorials) videos."
   ]
  },
  {
   "cell_type": "markdown",
   "metadata": {},
   "source": [
    "## Table of Contents\n",
    "* [Intro to Python](#Intro-to-Python)\n",
    "    + [Basics](#Basics)\n",
    "        - [Comments](#Comments)\n",
    "        - [Print](#Print)\n",
    "    "
   ]
  },
  {
   "cell_type": "markdown",
   "metadata": {},
   "source": [
    "## Intro to Python <a id=\"Intro-to-Python\"></a> "
   ]
  },
  {
   "cell_type": "markdown",
   "metadata": {},
   "source": [
    "Firstly to use Jupyter Notebook with full functionality, you need to make sure your interpreter is above ver Python 3.6, i am currently using Python 3.10.0, to test if you have a compatible version please run the code below and see if it correctly evaluates the value 'a', if it cannot then you have an outdated version of python due to its inabillity to understand the printf function."
   ]
  },
  {
   "cell_type": "code",
   "execution_count": 3,
   "metadata": {},
   "outputs": [
    {
     "name": "stdout",
     "output_type": "stream",
     "text": [
      "value of a is 23\n"
     ]
    }
   ],
   "source": [
    "a = 69\n",
    "print(f'value of a is {a}')"
   ]
  },
  {
   "cell_type": "markdown",
   "metadata": {},
   "source": [
    "### make sure you get 'value of a is 69'\n",
    "###### nice\n",
    "<br>"
   ]
  },
  {
   "cell_type": "markdown",
   "metadata": {},
   "source": [
    "Now we're told to supress the warnings that the notebook gives us because they can get annoying, I personally wouldn't recommend doing this if you're creating a notebook of your own however here is the code."
   ]
  },
  {
   "cell_type": "code",
   "execution_count": 1,
   "metadata": {},
   "outputs": [],
   "source": [
    "import warnings\n",
    "warnings.filterwarnings('ignore')"
   ]
  },
  {
   "cell_type": "markdown",
   "metadata": {},
   "source": [
    "Now this section is a bit short because it only covers the content before the 'Basics' nothing much at all, so i'd like to take the time to discuss why this file exists. First of all, its so I can learn. So why not make it accessible for all? It encourages me to make actually usable notes so I see this as a win/win.\n",
    "<br>"
   ]
  },
  {
   "cell_type": "markdown",
   "metadata": {},
   "source": [
    "## Basics <a id=\"Basics\"></a>"
   ]
  },
  {
   "cell_type": "markdown",
   "metadata": {},
   "source": [
    "This is the first section, the basics. Learning python follows the same pattern as learning java, the best advice i can give to you is to draw similarities between the two languages to reinforce your understanding of the concepts. In reality python is incredibly similar to java and only differs in syntax and real-life applications. "
   ]
  },
  {
   "cell_type": "markdown",
   "metadata": {},
   "source": [
    "### Comments <a id=\"Basics\"></a>"
   ]
  },
  {
   "cell_type": "markdown",
   "metadata": {},
   "source": [
    "Commenting in programming is a technique that creates an *invisible line* of sorts, its useful to explain the functionality of code to people who are reading it."
   ]
  },
  {
   "cell_type": "markdown",
   "metadata": {},
   "source": [
    "In python, comments are indicated with a '#' sign. Anything after the '#' sign on the same line is ignored by the interpreter.\n",
    "\n",
    "If you wanted to execute a line but supress the output, you can end the line with a ';' semi-colon."
   ]
  },
  {
   "cell_type": "code",
   "execution_count": 4,
   "metadata": {},
   "outputs": [
    {
     "data": {
      "text/plain": [
       "4"
      ]
     },
     "execution_count": 4,
     "metadata": {},
     "output_type": "execute_result"
    }
   ],
   "source": [
    "2+2"
   ]
  },
  {
   "cell_type": "code",
   "execution_count": 5,
   "metadata": {},
   "outputs": [],
   "source": [
    "# lets say we wanted to run the line above,\n",
    "# but without the interpreter outputting the answer '4':\n",
    "2+2;"
   ]
  },
  {
   "cell_type": "markdown",
   "metadata": {},
   "source": [
    "<br>"
   ]
  },
  {
   "cell_type": "markdown",
   "metadata": {},
   "source": [
    "### Print <a id=\"Print\"></a>"
   ]
  },
  {
   "cell_type": "markdown",
   "metadata": {},
   "source": [
    "The print function is very similar to the one you're likely familiar with back in java, the only difference being the syntax."
   ]
  },
  {
   "cell_type": "code",
   "execution_count": 6,
   "metadata": {},
   "outputs": [
    {
     "name": "stdout",
     "output_type": "stream",
     "text": [
      "69\n"
     ]
    }
   ],
   "source": [
    "a = 69\n"
   ]
  },
  {
   "cell_type": "markdown",
   "metadata": {},
   "source": [
    "The video explains the concepts around the print function well (things we already know) however in regards to jupyter notebook, he glosses over the properties around ***carrying variables across codeblocks***. What do i mean? Well remember how we made a = 69 (nice), well lets call 'a' again."
   ]
  },
  {
   "cell_type": "code",
   "execution_count": 1,
   "metadata": {},
   "outputs": [
    {
     "ename": "NameError",
     "evalue": "name 'a' is not defined",
     "output_type": "error",
     "traceback": [
      "\u001b[0;31m---------------------------------------------------------------------------\u001b[0m",
      "\u001b[0;31mNameError\u001b[0m                                 Traceback (most recent call last)",
      "Input \u001b[0;32mIn [1]\u001b[0m, in \u001b[0;36m<cell line: 1>\u001b[0;34m()\u001b[0m\n\u001b[0;32m----> 1\u001b[0m \u001b[38;5;28mprint\u001b[39m(\u001b[43ma\u001b[49m)\n",
      "\u001b[0;31mNameError\u001b[0m: name 'a' is not defined"
     ]
    }
   ],
   "source": [
    "print(a)"
   ]
  },
  {
   "cell_type": "markdown",
   "metadata": {},
   "source": [
    "chances are when you ran that code, it gave you a name error meaning 'a' hasn't been defined. The reason for this is because jupyter notebooks actually wants us to ***split the cell*** from my understanding, i run jupyter notebook through vscode however I don't imagine it would be that hard to find the split cell option in microsoft azure or vanilla jupyter notebooks."
   ]
  },
  {
   "cell_type": "markdown",
   "metadata": {},
   "source": [
    "That being said lets try calling 'a' with a codeblock we **splited** from the original."
   ]
  }
 ],
 "metadata": {
  "interpreter": {
   "hash": "66c2206cddf48537c6676a8a6dcae92bbe1390b4c2ce34851933dbe50a12557a"
  },
  "kernelspec": {
   "display_name": "Python 3.9.12 64-bit ('base': conda)",
   "language": "python",
   "name": "python3"
  },
  "language_info": {
   "codemirror_mode": {
    "name": "ipython",
    "version": 3
   },
   "file_extension": ".py",
   "mimetype": "text/x-python",
   "name": "python",
   "nbconvert_exporter": "python",
   "pygments_lexer": "ipython3",
   "version": "3.9.12"
  },
  "orig_nbformat": 4
 },
 "nbformat": 4,
 "nbformat_minor": 2
}
